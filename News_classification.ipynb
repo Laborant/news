{
 "cells": [
  {
   "cell_type": "code",
   "execution_count": 1,
   "metadata": {},
   "outputs": [],
   "source": [
    "import numpy as np \n",
    "import pandas as pd \n",
    "import matplotlib.pyplot as plt \n",
    "import os \n",
    "%matplotlib inline\n",
    "import tensorflow as tf\n",
    "\n",
    "from tensorflow import keras\n",
    "\n",
    "from tensorflow.keras import utils \n",
    "from tensorflow.keras.models import Sequential \n",
    "from tensorflow.keras.optimizers import Adam\n",
    "from tensorflow.keras.layers import Dense, Dropout, SpatialDropout1D, BatchNormalization, Embedding, Flatten, Activation \n",
    "from tensorflow.keras.preprocessing.text import Tokenizer \n",
    "from tensorflow.keras.preprocessing.sequence import pad_sequences \n",
    "\n",
    "from sklearn.preprocessing import LabelEncoder \n",
    "from sklearn.model_selection import train_test_split \n",
    "\n",
    "import time "
   ]
  },
  {
   "cell_type": "code",
   "execution_count": 2,
   "metadata": {},
   "outputs": [
    {
     "data": {
      "text/html": [
       "<div>\n",
       "<style scoped>\n",
       "    .dataframe tbody tr th:only-of-type {\n",
       "        vertical-align: middle;\n",
       "    }\n",
       "\n",
       "    .dataframe tbody tr th {\n",
       "        vertical-align: top;\n",
       "    }\n",
       "\n",
       "    .dataframe thead th {\n",
       "        text-align: right;\n",
       "    }\n",
       "</style>\n",
       "<table border=\"1\" class=\"dataframe\">\n",
       "  <thead>\n",
       "    <tr style=\"text-align: right;\">\n",
       "      <th></th>\n",
       "      <th>topics</th>\n",
       "      <th>text</th>\n",
       "    </tr>\n",
       "  </thead>\n",
       "  <tbody>\n",
       "    <tr>\n",
       "      <th>0</th>\n",
       "      <td>Россия</td>\n",
       "      <td>Как считает эксперт, россиянам не стоит пережи...</td>\n",
       "    </tr>\n",
       "    <tr>\n",
       "      <th>1</th>\n",
       "      <td>Спорт</td>\n",
       "      <td>«Конор может посетить поединок Хабиба с Порье»...</td>\n",
       "    </tr>\n",
       "    <tr>\n",
       "      <th>2</th>\n",
       "      <td>Россия</td>\n",
       "      <td>Открывая заседание Госсовета в Кремле, Путин п...</td>\n",
       "    </tr>\n",
       "    <tr>\n",
       "      <th>3</th>\n",
       "      <td>Мир</td>\n",
       "      <td>Об этом информируетnРИА Новостиnсо ссылкой на ...</td>\n",
       "    </tr>\n",
       "    <tr>\n",
       "      <th>4</th>\n",
       "      <td>Спорт</td>\n",
       "      <td>Решением 134-й сессии МОК в швейцарской Лозанн...</td>\n",
       "    </tr>\n",
       "    <tr>\n",
       "      <th>5</th>\n",
       "      <td>Без политики</td>\n",
       "      <td>Поnпрогнозуn, в ближайшее время с сохранением ...</td>\n",
       "    </tr>\n",
       "    <tr>\n",
       "      <th>6</th>\n",
       "      <td>Новости партнёров</td>\n",
       "      <td>Главы ведущих отечественных оборонно-промышлен...</td>\n",
       "    </tr>\n",
       "    <tr>\n",
       "      <th>7</th>\n",
       "      <td>Россия</td>\n",
       "      <td>«Проводятся рейды по выявлению мест для игр де...</td>\n",
       "    </tr>\n",
       "    <tr>\n",
       "      <th>8</th>\n",
       "      <td>Бывший СССР</td>\n",
       "      <td>«Что касается российского Крыма, вся эта админ...</td>\n",
       "    </tr>\n",
       "    <tr>\n",
       "      <th>9</th>\n",
       "      <td>Спорт</td>\n",
       "      <td>«Моё субъективное мнение — РПЛ надо обязательн...</td>\n",
       "    </tr>\n",
       "  </tbody>\n",
       "</table>\n",
       "</div>"
      ],
      "text/plain": [
       "              topics                                               text\n",
       "0             Россия  Как считает эксперт, россиянам не стоит пережи...\n",
       "1              Спорт  «Конор может посетить поединок Хабиба с Порье»...\n",
       "2             Россия  Открывая заседание Госсовета в Кремле, Путин п...\n",
       "3                Мир  Об этом информируетnРИА Новостиnсо ссылкой на ...\n",
       "4              Спорт  Решением 134-й сессии МОК в швейцарской Лозанн...\n",
       "5       Без политики  Поnпрогнозуn, в ближайшее время с сохранением ...\n",
       "6  Новости партнёров  Главы ведущих отечественных оборонно-промышлен...\n",
       "7             Россия  «Проводятся рейды по выявлению мест для игр де...\n",
       "8        Бывший СССР  «Что касается российского Крыма, вся эта админ...\n",
       "9              Спорт  «Моё субъективное мнение — РПЛ надо обязательн..."
      ]
     },
     "execution_count": 2,
     "metadata": {},
     "output_type": "execute_result"
    }
   ],
   "source": [
    "df = pd.read_csv('rt5.csv')\n",
    "df = df.iloc[:, :2] #извлечём тексты обращений и соответствующие им категории\n",
    "df.head(10)   "
   ]
  },
  {
   "cell_type": "code",
   "execution_count": 3,
   "metadata": {},
   "outputs": [
    {
     "name": "stdout",
     "output_type": "stream",
     "text": [
      "(8888, 2)\n"
     ]
    }
   ],
   "source": [
    "print(df.shape) #Выведем форму таблицы"
   ]
  },
  {
   "cell_type": "code",
   "execution_count": 4,
   "metadata": {},
   "outputs": [
    {
     "name": "stdout",
     "output_type": "stream",
     "text": [
      "['Россия'\n",
      " 'Как считает эксперт, россиянам не стоит переживать, что их заподозрят в намеренном загрязнении госзнака в непогоду.n«Когда идёт дождь или снег, то у водителя нет никакого умысла, чтобы номер был грязным, — он сам по себе такой. В теории в идеальной ситуации это должно учитываться инспекторами и судом», —nзаявилnон.nРанее пленум Верховного суда Россииnвыпустил постановлениеn, разъясняющее, какие санкции могут быть применены в отношении автолюбителей, которые приняли меры, чтобы государственные знаки, установленные на их автомобилях, стали нечитаемыми.nРуководитель Федерации автовладельцев России Сергей Канаев в беседе с ФАНnоценилnпредложение правительства России ввести штраф до 2500 рублей для автомобилистов, которые не оплачивают проезд по платной дороге.']\n"
     ]
    }
   ],
   "source": [
    "print(df.values[0]) #Выведем пример из таблицы "
   ]
  },
  {
   "cell_type": "code",
   "execution_count": 5,
   "metadata": {},
   "outputs": [
    {
     "name": "stdout",
     "output_type": "stream",
     "text": [
      "Количество записей класса  Россия :  2376\n",
      "Количество записей класса  Спорт :  1965\n",
      "Количество записей класса  Мир :  2795\n",
      "Количество записей класса  Без политики :  366\n",
      "Количество записей класса  Новости партнёров :  1\n",
      "Количество записей класса  Бывший СССР :  935\n",
      "Количество записей класса  Экономика :  297\n",
      "Количество записей класса  Наука :  141\n",
      "Количество записей класса  Мероприятия RT :  1\n",
      "Количество записей класса  Пресс-релизы :  11\n"
     ]
    }
   ],
   "source": [
    "for cl in df['topics'].unique(): \n",
    "  print('Количество записей класса ', cl, ': ', df[df.topics == cl].shape[0])\n",
    "  "
   ]
  },
  {
   "cell_type": "code",
   "execution_count": 6,
   "metadata": {},
   "outputs": [
    {
     "name": "stdout",
     "output_type": "stream",
     "text": [
      "['Россия' 'Спорт' 'Мир' 'Без политики' 'Новости партнёров' 'Бывший СССР'\n",
      " 'Экономика' 'Наука' 'Мероприятия RT' 'Пресс-релизы']\n",
      "11\n"
     ]
    }
   ],
   "source": [
    "texts = df['text'].values #Извлекаем данные всех текстов из столбца text\n",
    "classes = list(df['topics'].values) #Извлекаем соответствующие им значения классов (лейблов) \n",
    "maxWordsCount = 60000 #Зададим максимальное количество слов/индексов, учитываемое при обучении текстов\n",
    "\n",
    "print(df['topics'].unique()) #Выводим все уникальные значения классов\n",
    "nClasses = df['topics'].nunique()+1  #Задаём количество классов, обращаясь к столбцу category и оставляя уникальные значения\n",
    "print(nClasses) #Посмотрим на количество классов"
   ]
  },
  {
   "cell_type": "code",
   "execution_count": 7,
   "metadata": {},
   "outputs": [
    {
     "name": "stdout",
     "output_type": "stream",
     "text": [
      "(8888, 60000)\n",
      "[0. 1. 1. 1. 1. 1. 1. 1. 1. 1. 1. 0. 0. 0. 0. 1. 1. 1. 0. 1.]\n"
     ]
    }
   ],
   "source": [
    "#Преобразовываем текстовые данные в числовые/векторные для обучения нейросетью\n",
    "tokenizer = Tokenizer(num_words=maxWordsCount, filters='!\"#$%&()*+,-./:;<=>?@[\\\\]^_`{|}~\\t\\n', lower=True, split=' ', oov_token='unknown', char_level=False)\n",
    "\n",
    "tokenizer.fit_on_texts(texts) \n",
    "\n",
    "#Формируем матрицу индексов по принципу Bag of Words\n",
    "xAll = tokenizer.texts_to_matrix(texts) \n",
    "print(xAll.shape)  \n",
    "print(xAll[0, :20])"
   ]
  },
  {
   "cell_type": "code",
   "execution_count": 8,
   "metadata": {},
   "outputs": [],
   "source": [
    "#подключаем GPU\n",
    "config = tf.compat.v1.ConfigProto()\n",
    "config.gpu_options.allow_growth = True\n",
    "\n",
    "sess = tf.compat.v1.Session(config=config)"
   ]
  },
  {
   "cell_type": "code",
   "execution_count": 9,
   "metadata": {},
   "outputs": [
    {
     "name": "stdout",
     "output_type": "stream",
     "text": [
      "Размер словаря 150887\n"
     ]
    }
   ],
   "source": [
    "print(\"Размер словаря\", len(tokenizer.word_index.items()))"
   ]
  },
  {
   "cell_type": "code",
   "execution_count": 10,
   "metadata": {},
   "outputs": [
    {
     "name": "stdout",
     "output_type": "stream",
     "text": [
      "['Без политики' 'Бывший СССР' 'Мероприятия RT' 'Мир' 'Наука'\n",
      " 'Новости партнёров' 'Пресс-релизы' 'Россия' 'Спорт' 'Экономика']\n",
      "(8888,)\n",
      "[7 8 7 3 8 0 5 7 1 8 7]\n"
     ]
    }
   ],
   "source": [
    "#Преобразовываем категории в векторы\n",
    "encoder = LabelEncoder() \n",
    "encoder.fit(classes) \n",
    "classesEncoded = encoder.transform(classes) # Кодируем категории\n",
    "print(encoder.classes_)\n",
    "print(classesEncoded.shape)\n",
    "print(classesEncoded[:11])"
   ]
  },
  {
   "cell_type": "code",
   "execution_count": 11,
   "metadata": {},
   "outputs": [
    {
     "name": "stdout",
     "output_type": "stream",
     "text": [
      "(8888, 11)\n",
      "[0. 0. 0. 0. 0. 0. 0. 1. 0. 0. 0.]\n"
     ]
    }
   ],
   "source": [
    "yAll = utils.to_categorical(classesEncoded, nClasses) \n",
    "print(yAll.shape) \n",
    "print(yAll[0]) "
   ]
  },
  {
   "cell_type": "code",
   "execution_count": 12,
   "metadata": {},
   "outputs": [
    {
     "name": "stdout",
     "output_type": "stream",
     "text": [
      "(6221, 60000)\n",
      "(6221, 11)\n"
     ]
    }
   ],
   "source": [
    "# разбиваем все данные на обучающую и тестовую выборки с помощью метода train_test_split из библиотеки sklearn\n",
    "xTrain, xVal, yTrain, yVal = train_test_split(xAll, yAll, test_size=0.3, shuffle = True)\n",
    "print(xTrain.shape) #посмотрим на форму текстов из обучающей выборки\n",
    "print(yTrain.shape) #и на форму соответсвующих им классов"
   ]
  },
  {
   "cell_type": "code",
   "execution_count": 13,
   "metadata": {},
   "outputs": [
    {
     "name": "stdout",
     "output_type": "stream",
     "text": [
      "(6221,)\n",
      "(6221, 11)\n"
     ]
    },
    {
     "name": "stderr",
     "output_type": "stream",
     "text": [
      "/snap/jupyter/6/lib/python3.7/site-packages/ipykernel_launcher.py:3: VisibleDeprecationWarning: Creating an ndarray from ragged nested sequences (which is a list-or-tuple of lists-or-tuples-or ndarrays with different lengths or shapes) is deprecated. If you meant to do this, you must specify 'dtype=object' when creating the ndarray.\n",
      "  This is separate from the ipykernel package so we can avoid doing imports until\n"
     ]
    }
   ],
   "source": [
    "# для Эмбэддинга представляем текст в виде последовательности индексов слов, каждый из которых затем преобразуем в многомерный вектор\n",
    "Sequences = tokenizer.texts_to_sequences(texts) \n",
    "npSequences = np.array(Sequences)                \n",
    "xTrainE, xValE, yTrainE, yValE = train_test_split(npSequences, yAll, test_size=0.3)#сформируем новую форму выборки\n",
    "print(xTrainE.shape) #посмотрим на форму текстов из обучающей выборки\n",
    "print(yTrainE.shape)  "
   ]
  },
  {
   "cell_type": "code",
   "execution_count": 14,
   "metadata": {},
   "outputs": [
    {
     "data": {
      "image/png": "[encoded data removed]",
      "text/plain": [
       "<Figure size 432x288 with 1 Axes>"
      ]
     },
     "metadata": {
      "needs_background": "light"
     },
     "output_type": "display_data"
    }
   ],
   "source": [
    "lenXTrainE = [len(x) for x in xTrainE]\n",
    "plt.hist(lenXTrainE, 40)\n",
    "plt.show()"
   ]
  },
  {
   "cell_type": "code",
   "execution_count": 15,
   "metadata": {},
   "outputs": [],
   "source": [
    "maxlen = 400\n",
    "xTrainE = pad_sequences(xTrainE, maxlen=maxlen) #Преобразуем входные векторы\n",
    "xValE = pad_sequences(xValE, maxlen=maxlen) #Преобразуем входные векторы"
   ]
  },
  {
   "cell_type": "code",
   "execution_count": 16,
   "metadata": {},
   "outputs": [
    {
     "name": "stdout",
     "output_type": "stream",
     "text": [
      "Epoch 1/20\n",
      "312/312 [==============================] - 13s 41ms/step - loss: 2.0779 - accuracy: 0.3122 - val_loss: 1.5425 - val_accuracy: 0.4346\n",
      "Epoch 2/20\n",
      "312/312 [==============================] - 13s 41ms/step - loss: 0.6460 - accuracy: 0.7947 - val_loss: 0.8917 - val_accuracy: 0.7098\n",
      "Epoch 3/20\n",
      "312/312 [==============================] - 13s 41ms/step - loss: 0.2015 - accuracy: 0.9466 - val_loss: 0.7813 - val_accuracy: 0.7390\n",
      "Epoch 4/20\n",
      "312/312 [==============================] - 13s 42ms/step - loss: 0.0769 - accuracy: 0.9818 - val_loss: 0.8038 - val_accuracy: 0.7533\n",
      "Epoch 5/20\n",
      "312/312 [==============================] - 13s 41ms/step - loss: 0.0538 - accuracy: 0.9879 - val_loss: 0.8451 - val_accuracy: 0.7435\n",
      "Epoch 6/20\n",
      "312/312 [==============================] - 13s 41ms/step - loss: 0.0484 - accuracy: 0.9883 - val_loss: 0.8260 - val_accuracy: 0.7465\n",
      "Epoch 7/20\n",
      "312/312 [==============================] - 13s 41ms/step - loss: 0.0436 - accuracy: 0.9896 - val_loss: 0.8569 - val_accuracy: 0.7420\n",
      "Epoch 8/20\n",
      "312/312 [==============================] - 13s 42ms/step - loss: 0.0484 - accuracy: 0.9863 - val_loss: 0.8622 - val_accuracy: 0.7390\n",
      "Epoch 9/20\n",
      "312/312 [==============================] - 14s 44ms/step - loss: 0.0499 - accuracy: 0.9852 - val_loss: 0.9084 - val_accuracy: 0.7492\n",
      "Epoch 10/20\n",
      "312/312 [==============================] - 13s 42ms/step - loss: 0.0589 - accuracy: 0.9823 - val_loss: 0.8653 - val_accuracy: 0.7458\n",
      "Epoch 11/20\n",
      "312/312 [==============================] - 13s 42ms/step - loss: 0.0587 - accuracy: 0.9822 - val_loss: 0.8622 - val_accuracy: 0.7559\n",
      "Epoch 12/20\n",
      "312/312 [==============================] - 13s 42ms/step - loss: 0.0692 - accuracy: 0.9783 - val_loss: 0.9355 - val_accuracy: 0.7518\n",
      "Epoch 13/20\n",
      "312/312 [==============================] - 13s 43ms/step - loss: 0.0512 - accuracy: 0.9841 - val_loss: 0.9194 - val_accuracy: 0.7458\n",
      "Epoch 14/20\n",
      "312/312 [==============================] - 14s 46ms/step - loss: 0.0479 - accuracy: 0.9859 - val_loss: 0.9241 - val_accuracy: 0.7548\n",
      "Epoch 15/20\n",
      "312/312 [==============================] - 13s 42ms/step - loss: 0.0481 - accuracy: 0.9844 - val_loss: 0.9007 - val_accuracy: 0.7574\n",
      "Epoch 16/20\n",
      "312/312 [==============================] - 13s 42ms/step - loss: 0.0451 - accuracy: 0.9871 - val_loss: 0.8486 - val_accuracy: 0.7732\n",
      "Epoch 17/20\n",
      "312/312 [==============================] - 13s 41ms/step - loss: 0.0420 - accuracy: 0.9863 - val_loss: 0.9775 - val_accuracy: 0.7529\n",
      "Epoch 18/20\n",
      "312/312 [==============================] - 13s 41ms/step - loss: 0.0280 - accuracy: 0.9923 - val_loss: 0.8929 - val_accuracy: 0.7642\n",
      "Epoch 19/20\n",
      "312/312 [==============================] - 13s 41ms/step - loss: 0.0305 - accuracy: 0.9912 - val_loss: 0.9790 - val_accuracy: 0.7627\n",
      "Epoch 20/20\n",
      "312/312 [==============================] - 14s 44ms/step - loss: 0.0260 - accuracy: 0.9924 - val_loss: 0.9443 - val_accuracy: 0.7702\n"
     ]
    },
    {
     "data": {
      "image/png": "[encoded data removed]",
      "text/plain": [
       "<Figure size 432x288 with 1 Axes>"
      ]
     },
     "metadata": {
      "needs_background": "light"
     },
     "output_type": "display_data"
    }
   ],
   "source": [
    "#Создаём полносвязную сеть\n",
    "modelE = Sequential()\n",
    "modelE.add(Embedding(maxWordsCount, 50, input_length=maxlen))\n",
    "modelE.add(SpatialDropout1D(0.2))\n",
    "modelE.add(Flatten())\n",
    "modelE.add(BatchNormalization())\n",
    "modelE.add(Dense(64, activation=\"relu\"))\n",
    "modelE.add(Dropout(0.2))\n",
    "modelE.add(BatchNormalization())\n",
    "\n",
    "#Выходной полносвязный слой\n",
    "modelE.add(Dense(nClasses, activation='softmax'))\n",
    "\n",
    "modelE.compile(optimizer='adam', \n",
    "              loss='categorical_crossentropy', \n",
    "              metrics=['accuracy'])\n",
    "\n",
    "#Обучаем сеть на xTrain\n",
    "history = modelE.fit(xTrainE, \n",
    "                    yTrainE, \n",
    "                    epochs=20,\n",
    "                    batch_size=20,\n",
    "                    validation_data=(xValE, yValE))\n",
    "\n",
    "\n",
    "plt.plot(history.history['accuracy'], \n",
    "         label='Доля верных ответов на обучающем наборе')\n",
    "plt.plot(history.history['val_accuracy'], \n",
    "         label='Доля верных ответов на проверочном наборе')\n",
    "plt.xlabel('Эпоха обучения')\n",
    "plt.ylabel('Доля верных ответов')\n",
    "plt.legend()\n",
    "plt.show()"
   ]
  },
  {
   "cell_type": "code",
   "execution_count": 17,
   "metadata": {},
   "outputs": [
    {
     "data": {
      "image/png": "[encoded data removed]",
      "text/plain": [
       "<Figure size 432x288 with 1 Axes>"
      ]
     },
     "metadata": {
      "needs_background": "light"
     },
     "output_type": "display_data"
    }
   ],
   "source": [
    "plt.plot(history.history['loss'], \n",
    "         label='Ошибка на обучающем наборе')\n",
    "plt.plot(history.history['val_loss'], \n",
    "         label='Ошибка на проверочном наборе')\n",
    "plt.xlabel('Эпоха обучения')\n",
    "plt.ylabel('Ошибка')\n",
    "plt.legend()\n",
    "plt.show()"
   ]
  },
  {
   "cell_type": "code",
   "execution_count": 18,
   "metadata": {},
   "outputs": [
    {
     "name": "stdout",
     "output_type": "stream",
     "text": [
      "Model: \"sequential\"\n",
      "_________________________________________________________________\n",
      " Layer (type)                Output Shape              Param #   \n",
      "=================================================================\n",
      " embedding (Embedding)       (None, 400, 50)           3000000   \n",
      "                                                                 \n",
      " spatial_dropout1d (SpatialD  (None, 400, 50)          0         \n",
      " ropout1D)                                                       \n",
      "                                                                 \n",
      " flatten (Flatten)           (None, 20000)             0         \n",
      "                                                                 \n",
      " batch_normalization (BatchN  (None, 20000)            80000     \n",
      " ormalization)                                                   \n",
      "                                                                 \n",
      " dense (Dense)               (None, 64)                1280064   \n",
      "                                                                 \n",
      " dropout (Dropout)           (None, 64)                0         \n",
      "                                                                 \n",
      " batch_normalization_1 (Batc  (None, 64)               256       \n",
      " hNormalization)                                                 \n",
      "                                                                 \n",
      " dense_1 (Dense)             (None, 11)                715       \n",
      "                                                                 \n",
      "=================================================================\n",
      "Total params: 4,361,035\n",
      "Trainable params: 4,320,907\n",
      "Non-trainable params: 40,128\n",
      "_________________________________________________________________\n"
     ]
    }
   ],
   "source": [
    "#Посмотрим на готовую модель\n",
    "modelE.summary()"
   ]
  },
  {
   "cell_type": "code",
   "execution_count": 19,
   "metadata": {},
   "outputs": [],
   "source": [
    "# Подготовка к предсказанию рубрики\n",
    "\n",
    "def getPredictOnText(text, modelE, classes, tokenizer):\n",
    "\n",
    "    pad_seq = getPadSequences([text.split()], tokenizer, maxlen=maxlen)\n",
    "\n",
    "    pred = modelE.predict(pad_seq)\n",
    "    \n",
    "   # test_acc = modelE.evaluate(text, classes)\n",
    "\n",
    "    predCat = classes[np.argmax(pred[0])]\n",
    "\n",
    "\n",
    "\n",
    "    print('\\n\\nКатегория:', predCat)\n",
    "    print(pred)\n",
    "    \n",
    "   # print('Test accuracy:', test_acc)"
   ]
  },
  {
   "cell_type": "code",
   "execution_count": 20,
   "metadata": {},
   "outputs": [],
   "source": [
    "\n",
    "\n",
    "def getPadSequences(text, tokenizer, maxlen):\n",
    "\n",
    "    seq = tokenizer.texts_to_sequences(text)\n",
    "    pad_seq = pad_sequences(seq, maxlen=maxlen)\n",
    "\n",
    "    return pad_seq"
   ]
  },
  {
   "cell_type": "code",
   "execution_count": 21,
   "metadata": {},
   "outputs": [],
   "source": [
    "# Вводим текст для распознавания\n",
    "\n",
    "art = 'В военном городке под Степанакертом отметили годовщину прекращения военных действий в Нагорном Карабахе. Российские миротворцы провели показательные выступления и организовали'"
   ]
  },
  {
   "cell_type": "code",
   "execution_count": 22,
   "metadata": {},
   "outputs": [
    {
     "name": "stdout",
     "output_type": "stream",
     "text": [
      "\n",
      "\n",
      "Категория: Мир\n",
      "[[1.3574674e-02 1.1297178e-01 3.2796728e-04 8.0733329e-01 2.3618148e-04\n",
      "  2.2025181e-04 1.8700686e-03 3.8152128e-02 2.2301726e-02 2.7265123e-03\n",
      "  2.8543384e-04]]\n"
     ]
    }
   ],
   "source": [
    "# Запуск распознавания\n",
    "\n",
    "text = art\n",
    "getPredictOnText(text, modelE, classes, tokenizer)\n"
   ]
  },
  {
   "cell_type": "code",
   "execution_count": null,
   "metadata": {},
   "outputs": [],
   "source": [
    "#Сохраним веса и модель\n",
    "modelE.save('news.h5')\n"
   ]
  }
 ],
 "metadata": {
  "kernelspec": {
   "display_name": "Python 3",
   "language": "python",
   "name": "python3"
  },
  "language_info": {
   "codemirror_mode": {
    "name": "ipython",
    "version": 3
   },
   "file_extension": ".py",
   "mimetype": "text/x-python",
   "name": "python",
   "nbconvert_exporter": "python",
   "pygments_lexer": "ipython3",
   "version": "3.7.3"
  }
 },
 "nbformat": 4,
 "nbformat_minor": 2
}
